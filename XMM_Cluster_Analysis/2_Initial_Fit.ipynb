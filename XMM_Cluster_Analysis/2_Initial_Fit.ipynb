{
 "cells": [
  {
   "cell_type": "code",
   "execution_count": null,
   "id": "00a96f37",
   "metadata": {},
   "outputs": [],
   "source": [
    "import numpy as np\n",
    "from scipy import optimize, stats\n",
    "from problem import Problem\n",
    "from iminuit import Minuit\n",
    "\n",
    "import matplotlib as mpl\n",
    "import matplotlib.pyplot as plt"
   ]
  },
  {
   "cell_type": "markdown",
   "id": "85a0ac80",
   "metadata": {},
   "source": [
    "# Model Class\n",
    "\n",
    "Here we set up a helper class which loads the data, model components, and model specification and allows us to calculate the $\\chi^2$ for a given set of parameters."
   ]
  },
  {
   "cell_type": "code",
   "execution_count": null,
   "id": "ef532fb6",
   "metadata": {},
   "outputs": [],
   "source": [
    "perseus = Problem('./Data/ReducedData/Perseus_Data.h5', # path to the data archive\n",
    "                  './Data/ModelComponents/APEC_Grid.npz', # path to the saved APEC interpolation grid\n",
    "                  './Data/ModelComponents/Absorption_Grid.npy', # path to the saved hydrogen absorption grid\n",
    "                  './Fitting/Initial.npz',  # path to the model specification \n",
    "                  min_energy =3, # minimum energy in the emission frame which defines the energy ROI\n",
    "                  max_energy = 6, # maximum energy in the emission frame which defines the energy ROI\n",
    "                 )"
   ]
  },
  {
   "cell_type": "code",
   "execution_count": null,
   "id": "06f3d8da",
   "metadata": {},
   "outputs": [],
   "source": [
    "# Generating a random parameter vector\n",
    "param_vector = stats.uniform.rvs(loc = perseus.bounds[0],\n",
    "                                 scale = perseus.bounds[1] - perseus.bounds[0])\n",
    "\n",
    "model = perseus.get_model(param_vector)\n",
    "chi2 = perseus.fitness(param_vector)\n",
    "\n",
    "print('ChiSq: ', chi2)\n",
    "print('Degrees of Freedom:', len(perseus.cts[perseus.locs]) - len(param_vector))"
   ]
  },
  {
   "cell_type": "code",
   "execution_count": null,
   "id": "b961bfee",
   "metadata": {},
   "outputs": [],
   "source": [
    "# Access the data for plotting\n",
    "energies = (1+perseus.z)*perseus.Eout_data # Emission-frame energies\n",
    "cts = perseus.cts # Number of counts in each bin\n",
    "err = perseus.err # Gaussian error bars for each bin\n",
    "\n",
    "model = perseus.get_model(param_vector) # The model associated with the specified parameter vector\n",
    "\n",
    "\n",
    "# Plot the data and the model. By using `locs` we restrict to just plotting within our energy ROI.\n",
    "plt.plot(energies[perseus.locs], model[perseus.locs], \n",
    "         color = 'black', label = 'Model')\n",
    "\n",
    "plt.errorbar(energies[perseus.locs], cts[perseus.locs], yerr = err[perseus.locs],\n",
    "             color = 'grey', fmt ='s', ms= 1, label = 'Data')\n",
    "\n",
    "plt.xlabel('$E$ [keV]')\n",
    "plt.ylabel('Counts')\n",
    "\n",
    "plt.legend()\n",
    "plt.tight_layout()"
   ]
  },
  {
   "cell_type": "markdown",
   "id": "a6a42c7d",
   "metadata": {},
   "source": [
    "# Setting up an Optimization\n",
    "\n",
    "The random parameter vector we generated was almost certainly a bad fit. Now we set up an optimization for minimizing the $\\chi^2$.\n",
    "\n",
    "Warning: The execution time for this code is very long!"
   ]
  },
  {
   "cell_type": "code",
   "execution_count": null,
   "id": "9265c179",
   "metadata": {},
   "outputs": [],
   "source": [
    "# Running a global optimization\n",
    "out = optimize.differential_evolution(perseus.fitness, perseus.bounds.T, polish = False, \n",
    "                                      tol = 1e-4, atol = 0, popsize = 50, init = 'sobol',\n",
    "                                      maxiter=100000)\n",
    "\n",
    "# Polish with minuit\n",
    "m = Minuit.from_array_func(perseus.fitness, param_vector, limit =perseus.bounds.T, errordef = 1)"
   ]
  },
  {
   "cell_type": "markdown",
   "id": "784d01f6",
   "metadata": {},
   "source": [
    "Congratulations! You have fit the model. You should save here in the desired manner."
   ]
  },
  {
   "cell_type": "code",
   "execution_count": null,
   "id": "ca43366e",
   "metadata": {},
   "outputs": [],
   "source": [
    "np.save('./Fitting/Perseus_Global_Fit.npy', m.np_values())"
   ]
  }
 ],
 "metadata": {
  "kernelspec": {
   "display_name": "Python 3",
   "language": "python",
   "name": "python3"
  },
  "language_info": {
   "codemirror_mode": {
    "name": "ipython",
    "version": 3
   },
   "file_extension": ".py",
   "mimetype": "text/x-python",
   "name": "python",
   "nbconvert_exporter": "python",
   "pygments_lexer": "ipython3",
   "version": "3.7.4"
  }
 },
 "nbformat": 4,
 "nbformat_minor": 5
}
