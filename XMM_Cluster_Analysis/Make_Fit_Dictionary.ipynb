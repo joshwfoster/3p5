{
 "cells": [
  {
   "cell_type": "code",
   "execution_count": null,
   "metadata": {},
   "outputs": [],
   "source": [
    "import sys, os, iminuit, h5py, time\n",
    "import numpy as np\n",
    "from scipy import stats"
   ]
  },
  {
   "cell_type": "markdown",
   "metadata": {},
   "source": [
    "# Defining the basics of the parameter file\n",
    "\n",
    "Here we will set up a parameter file for Perseus. We start with a redshift for the cluster and with a list of empty upper and lower bounds which will be assigned as relevant for the model components."
   ]
  },
  {
   "cell_type": "code",
   "execution_count": null,
   "metadata": {},
   "outputs": [],
   "source": [
    "z = 0.016 # the best-fit redshift for Perseus\n",
    "\n",
    "upper_bounds = []\n",
    "lower_bounds = []"
   ]
  },
  {
   "cell_type": "markdown",
   "metadata": {},
   "source": [
    "# Define the continuum model\n",
    "\n",
    "We allow for arbitrary combinations of `nlapec`, `folded_powerlaw`, and `unfolded_powerlaw` models. In the following, we define the model to include 2 `nlapec` continua, 1 `folded_powerlaw`, and 1 `unfolded_powerlaw`. We also must define bounds on the parameters for these models for use in global optimization.\n",
    "\n",
    "Continuum components are defined by a normalization and a shape parameter. For each of the three, the normalization parameter $N$ defines the fraction of the observed counts predicted by the given continuum component. This is a particularly convenient variable to set sensible bounds on and optimize over. We allow this normalization parameter to vary between `0` and `1.1`.\n",
    "\n",
    "For the `nlapec`, the shape parameter is the temperature, which is allowed to freely vary in the interval `[1, 12]` Kelvin. Each of the power-laws have take an index as shape parameter, which is allowed to vary within `[-4, 1]`.\n",
    "\n",
    "\n",
    "We also specify the optimization bounds for the hydrogen absorption. The parameter over which we optimize is the `Log22` which is the $\\log_{10}$ of the hydrogen line depth in units of $10^{22} /\\mathrm{cm}^2$."
   ]
  },
  {
   "cell_type": "code",
   "execution_count": null,
   "metadata": {},
   "outputs": [],
   "source": [
    "upper_bounds.append(1)\n",
    "lower_bounds.append(-1)\n",
    "\n",
    "num_nlapec = 2\n",
    "num_folded_pl = 1\n",
    "num_unfolded_pl = 1\n",
    "\n",
    "for i in range(num_nlapec):\n",
    "    \n",
    "    # Normalization bounds\n",
    "    upper_bounds.append(1.1)\n",
    "    lower_bounds.append(0)\n",
    "    \n",
    "    # Temperature bounds\n",
    "    lower_bounds.append(1)\n",
    "    upper_bounds.append(12)\n",
    "    \n",
    "    \n",
    "for i in range(num_folded_pl):\n",
    "    \n",
    "    # Index bounds\n",
    "    upper_bounds.append(1)\n",
    "    lower_bounds.append(-4)\n",
    "    \n",
    "    # Normalization bounds\n",
    "    upper_bounds.append(1.1)\n",
    "    lower_bounds.append(0) \n",
    "    \n",
    "for i in range(num_unfolded_pl):\n",
    "    \n",
    "    # Index bounds\n",
    "    upper_bounds.append(1)\n",
    "    lower_bounds.append(-4)\n",
    "    \n",
    "    # Normalization bounds\n",
    "    upper_bounds.append(1.1)\n",
    "    lower_bounds.append(0) "
   ]
  },
  {
   "cell_type": "markdown",
   "metadata": {},
   "source": [
    "# Define the candidate line list and bounds\n",
    "\n",
    "In this example, we will set up an optimization which allows for the line flux, the line rest energy, and the line width to vary.\n",
    "\n",
    "\n",
    "We start by defining the list of lines which will be included in the model. The list of lines is defined by a set of emission-frame energies and associated boolean, with `True` for redshifted astrophysical lines or `False` for unredshifted instrumental lines. In this analysis, we do not use any instrumental lines."
   ]
  },
  {
   "cell_type": "code",
   "execution_count": null,
   "metadata": {},
   "outputs": [],
   "source": [
    "# Line energies in keV\n",
    "line_energies = np.array([3.124, 3.32, 3.472, 3.511, 3.617, 3.685, 3.705, 3.861, 3.902, 3.936, 4.107, 4.584, 5.682])\n",
    "line_types = np.ones((len(line_energies)), dtype = bool)"
   ]
  },
  {
   "cell_type": "markdown",
   "metadata": {},
   "source": [
    "Lines are parametrized by a displacement from their expected rest energy $\\Delta E$, a flux $F$ and a width parameter $\\sigma_E$.\n",
    "- Lines are allowed to vary in location up to $\\pm 5$ eV. \n",
    "- The line flux parameter, in units of $10^{-6}$ photons/cm$^2$/s is allowed to vary over an effectively unbounded positive interval, with the exception of lines in the vicinity of the 3.57 keV line, for which we adopt upper bounds following the treatment of https://arxiv.org/abs/1402.2301.\n",
    "- The line width is allowed to vary between [$10^{-4}$, $10^{-2}$] $\\times E_{line}$.\n",
    "\n",
    "We now loop over the list of lines, adding their parameters to our bounds lists."
   ]
  },
  {
   "cell_type": "code",
   "execution_count": null,
   "metadata": {},
   "outputs": [],
   "source": [
    "# Making the DeltaE bounds\n",
    "for i in range(len(line_energies)):\n",
    "    upper_bounds.append(5e-3) # +5eV\n",
    "    lower_bounds.append(5e-3) # -5eV\n",
    "\n",
    "# Making the Flux bounds\n",
    "for i in range(len(line_energies)):\n",
    "    if line_energies[i] == 3.472:\n",
    "        upper_bounds.append(5.55)\n",
    "        \n",
    "    elif line_energies[i] == 3.511:\n",
    "        upper_bounds.append(13.71)\n",
    "        \n",
    "    elif line_energies[i] == 3.617:\n",
    "        upper_bounds.append(1.92)\n",
    "        \n",
    "    elif line_energies[i] == 3.685:\n",
    "        upper_bounds.append(45.3)\n",
    "        \n",
    "    elif line_energies[i] == 3.705:\n",
    "        upper_bounds.append(34.8)\n",
    "        \n",
    "    else:\n",
    "        upper_bounds.append(400)\n",
    "        \n",
    "    lower_bounds.append(0)\n",
    "    \n",
    "# Making the SigmaE bounds\n",
    "for i in range(len(line_energies)):\n",
    "    upper_bounds.append(1e-2 * line_energies[i])\n",
    "    lower_bounds.append(1e-4 * line_energies[i])"
   ]
  },
  {
   "cell_type": "markdown",
   "metadata": {},
   "source": [
    "# Save the model\n",
    "\n",
    "We have now fully specified the model. We will save it in a format that our analysis code can make use of."
   ]
  },
  {
   "cell_type": "code",
   "execution_count": null,
   "metadata": {},
   "outputs": [],
   "source": [
    "fit_dict = dict()\n",
    "\n",
    "fit_dict['z'] = z\n",
    "fit_dict['lines'] = line_energies\n",
    "fit_dict['redshifts'] = line_types\n",
    "fit_dict['num_apec']  = num_nlapec\n",
    "fit_dict['num_folded'] = num_folded_pl\n",
    "fit_dict['num_unfolded'] = num_unfolded_pl\n",
    "\n",
    "fit_dict['upper'] = upper_bounds\n",
    "fit_dict['lower'] = lower_bounds\n",
    "\n",
    "np.savez('./Fitting/E3/Perseus/Initial.npz', **fit_dict)"
   ]
  }
 ],
 "metadata": {
  "kernelspec": {
   "display_name": "Python 3 (ipykernel)",
   "language": "python",
   "name": "python3"
  },
  "language_info": {
   "codemirror_mode": {
    "name": "ipython",
    "version": 3
   },
   "file_extension": ".py",
   "mimetype": "text/x-python",
   "name": "python",
   "nbconvert_exporter": "python",
   "pygments_lexer": "ipython3",
   "version": "3.10.10"
  }
 },
 "nbformat": 4,
 "nbformat_minor": 2
}
