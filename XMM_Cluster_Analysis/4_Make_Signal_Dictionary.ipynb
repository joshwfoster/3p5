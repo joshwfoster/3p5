{
 "cells": [
  {
   "cell_type": "code",
   "execution_count": null,
   "id": "a6222b75",
   "metadata": {},
   "outputs": [],
   "source": [
    "import numpy as np"
   ]
  },
  {
   "cell_type": "markdown",
   "id": "198603ff",
   "metadata": {},
   "source": [
    "# Include the signal line in the fitting dictionary\n",
    "\n",
    "We append the signal line at the specified energy `E_Sig`. By convention, this line is taken to be astrophysical and so will have redshifting applied in the analysis.\n",
    "\n",
    "This is mostly uninteresting book-keeping. The signal line is not allowed to vary in terms of energy displacement or width."
   ]
  },
  {
   "cell_type": "code",
   "execution_count": null,
   "id": "2b6c5c96",
   "metadata": {},
   "outputs": [],
   "source": [
    "E_Sig = 3.57"
   ]
  },
  {
   "cell_type": "code",
   "execution_count": null,
   "id": "52f51b57",
   "metadata": {},
   "outputs": [],
   "source": [
    "# Load the Old Data\n",
    "new_fit_path = '../Fitting/DroppedContinuum.npz\n",
    "null_dict = np.load(new_fit_path)\n",
    "\n",
    "# Format the fit parmameters to include the signal line\n",
    "guess = null_dict['guess']\n",
    "upper = null_dict['upper']\n",
    "lower = null_dict['lower']\n",
    "\n",
    "num_continuum_params = 1 + 2*(null_dict['num_apec'] +\\\n",
    "                              null_dict['num_folded'] +\\\n",
    "                              null_dict['num_unfolded'])\n",
    "\n",
    "continuum_guess = guess[:num_continuum_params]\n",
    "continuum_upper = upper[:num_continuum_params]\n",
    "continuum_lower = lower[:num_continuum_params]\n",
    "\n",
    "\n",
    "line_guess = guess[num_continuum_params:].reshape(3, len(null_dict['lines']))\n",
    "line_lower = lower[num_continuum_params:].reshape(3, len(null_dict['lines']))\n",
    "line_upper = upper[num_continuum_params:].reshape(3, len(null_dict['lines']))\n",
    "\n",
    "sig_guess = np.array([0, 0, 1e-3*E_Sig])\n",
    "sig_lower = np.array([0, -100, 1e-3*E_Sig])\n",
    "sig_upper = np.array([0, 100, 1e-3*E_Sig])\n",
    "\n",
    "line_guess = np.hstack((sig_guess[:, None], line_guess)).flatten()\n",
    "line_upper = np.hstack((sig_upper[:, None], line_upper)).flatten()\n",
    "line_lower = np.hstack((sig_lower[:, None], line_lower)).flatten()\n",
    "\n",
    "guess = np.append(continuum_guess, line_guess)\n",
    "lower = np.append(continuum_lower, line_lower)\n",
    "lower[16] = 0\n",
    "upper = np.append(continuum_upper, line_upper)\n",
    "\n",
    "# Make the new dictionary\n",
    "sig_dict = dict()\n",
    "for item in null_dict.keys():\n",
    "    sig_dict[item] = null_dict[item]\n",
    "    \n",
    "sig_dict['lines'] = np.append(E_Sig, sig_dict['lines'])\n",
    "sig_dict['guess'] = guess\n",
    "sig_dict['lower'] = lower\n",
    "sig_dict['upper'] = upper\n",
    "sig_dict['redshifts'] = np.append(1, sig_dict['redshifts'])\n",
    "\n",
    "# Save the new dictionary\n",
    "new_fit_path = '../Fitting/SigDict.npz'\n",
    "np.savez(new_fit_path, **sig_dict)"
   ]
  }
 ],
 "metadata": {
  "kernelspec": {
   "display_name": "Python 3 (ipykernel)",
   "language": "python",
   "name": "python3"
  },
  "language_info": {
   "codemirror_mode": {
    "name": "ipython",
    "version": 3
   },
   "file_extension": ".py",
   "mimetype": "text/x-python",
   "name": "python",
   "nbconvert_exporter": "python",
   "pygments_lexer": "ipython3",
   "version": "3.10.10"
  }
 },
 "nbformat": 4,
 "nbformat_minor": 5
}
