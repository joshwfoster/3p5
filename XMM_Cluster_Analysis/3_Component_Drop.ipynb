{
 "cells": [
  {
   "cell_type": "code",
   "execution_count": null,
   "id": "410a8731",
   "metadata": {},
   "outputs": [],
   "source": [
    "import sys, os, h5py, time, itertools\n",
    "import numpy as np\n",
    "from scipy import stats, optimize\n",
    "from problem import Problem\n",
    "from iminuit import Minuit"
   ]
  },
  {
   "cell_type": "markdown",
   "id": "5715e43a",
   "metadata": {},
   "source": [
    "# Load global optimization results\n",
    "\n",
    "We set up the fitting helper class as before and load the results which were obtained in Step 2 of the analysis."
   ]
  },
  {
   "cell_type": "code",
   "execution_count": null,
   "id": "bf143306",
   "metadata": {},
   "outputs": [],
   "source": [
    "perseus = Problem('./Data/ReducedData/Perseus_Data.h5',\n",
    "                  './Data/ModelComponents/APEC_Grid.npz',\n",
    "                  './Data/ModelComponents/Absorption_Grid.npy',\n",
    "                  './Fitting/Initial.npz',\n",
    "                  min_energy =3, max_energy = 6,)\n",
    "\n",
    "# Load the fit from step 2\n",
    "model_fit = np.load('./Fitting/Perseus_Global_Fit.npy')"
   ]
  },
  {
   "cell_type": "markdown",
   "id": "6eba178c",
   "metadata": {},
   "source": [
    "# Iteratively test and drop lines with a local optimizer\n",
    "\n",
    "Here we define our threshold for inclusion for a line to be when the removal results in a $\\Delta \\chi^2 \\geq 3$ so as to maximize the $\\chi_\\nu^2$."
   ]
  },
  {
   "cell_type": "code",
   "execution_count": null,
   "id": "e5ccf62b",
   "metadata": {},
   "outputs": [],
   "source": [
    "keep_threshold = 3"
   ]
  },
  {
   "cell_type": "code",
   "execution_count": null,
   "id": "2449cba6",
   "metadata": {},
   "outputs": [],
   "source": [
    "def drop_test(index):\n",
    "    start = time.time()\n",
    "    if index in dropped_lines:\n",
    "        return np.inf, np.inf, old\n",
    "\n",
    "    drop_guess = np.copy(old)\n",
    "\n",
    "    for i in np.append(dropped_lines, index):\n",
    "    \n",
    "        drop_guess[problem.num_continuum_params + i] = 0\n",
    "        drop_guess[problem.num_continuum_params + problem.num_lines + i] = 0\n",
    "        drop_guess[problem.num_continuum_params + 2*problem.num_lines + i] = 1e-3\n",
    "\n",
    "    n = Minuit.from_array_func(problem.fitness, drop_guess, limit = problem.bounds.T, errordef = 1e0)\n",
    "\n",
    "    for i in np.append(dropped_lines, index):\n",
    "\n",
    "        n.fixed['x' + str(problem.num_continuum_params + i)] = True\n",
    "        n.fixed['x' + str(problem.num_continuum_params + problem.num_lines + i)] = True\n",
    "        n.fixed['x' + str(problem.num_continuum_params + 2*problem.num_lines + i)] = True\n",
    "\n",
    "    n.migrad(ncall = int(1e8))\n",
    "    eval_sig = n.fval - old_fitness_val\n",
    "    end = time.time()\n",
    "    print(index, end-start, eval_sig)\n",
    "    return eval_sig, n.fval, n.np_values()"
   ]
  },
  {
   "cell_type": "code",
   "execution_count": null,
   "id": "08b6043a",
   "metadata": {},
   "outputs": [],
   "source": [
    "init = np.copy(m.values.values())\n",
    "init_fitness_val = m.fval\n",
    "\n",
    "dropped_lines = np.zeros((0), dtype = np.int)\n",
    "eval_sig = np.zeros_like(problem.all_lines)\n",
    "chiSq_array = np.zeros_like(eval_sig)\n",
    "fit_array = np.zeros((len(eval_sig), len(m.np_values())))\n",
    "\n",
    "while True:\n",
    "    for i in range(len(eval_sig)):\n",
    "        eval_sig[i], chiSq_array[i], fit_array[i] = drop_test(i)\n",
    "\n",
    "    if np.amin(eval_sig) < keep_threshinit:\n",
    "        dropped_line = np.argmin(eval_sig)\n",
    "        print('Dropping: ', dropped_line, problem.all_lines[dropped_line], chiSq_array[dropped_line])\n",
    "\n",
    "        init_fitness_val = chiSq_array[dropped_line]\n",
    "        init = fit_array[dropped_line]\n",
    "        dropped_lines = np.append(dropped_lines, dropped_line)\n",
    "    else:\n",
    "        print('None to drop')\n",
    "        break\n",
    "    print()\n"
   ]
  },
  {
   "cell_type": "markdown",
   "id": "7d71134b",
   "metadata": {},
   "source": [
    "# Validate the Line Dropping"
   ]
  },
  {
   "cell_type": "code",
   "execution_count": null,
   "id": "bf61f840",
   "metadata": {},
   "outputs": [],
   "source": [
    "drop_guess = np.copy(init)\n",
    "\n",
    "for i in dropped_lines:\n",
    "\n",
    "    drop_guess[problem.num_continuum_params + i] = 0\n",
    "    drop_guess[problem.num_continuum_params + problem.num_lines + i] = 0\n",
    "    drop_guess[problem.num_continuum_params + 2 * problem.num_lines + i] = 0\n",
    "\n",
    "n = Minuit.from_array_func(problem.fitness, drop_guess, limit=problem.bounds.T, errordef = 1e0)\n",
    "\n",
    "for i in dropped_lines:\n",
    "\n",
    "    n.fixed['x' + str(problem.num_continuum_params + i)] = True\n",
    "    n.fixed['x' + str(problem.num_continuum_params + problem.num_lines + i)] = True\n",
    "    n.fixed['x' + str(problem.num_continuum_params + 2 * problem.num_lines + i)] = True\n",
    "\n",
    "n.migrad()"
   ]
  },
  {
   "cell_type": "markdown",
   "id": "5ccd3f18",
   "metadata": {},
   "source": [
    "# Save a new model specification"
   ]
  },
  {
   "cell_type": "code",
   "execution_count": null,
   "id": "8b7e64ad",
   "metadata": {},
   "outputs": [],
   "source": [
    "new_fit_path = './Fitting/DroppedLine.npz'\n",
    "\n",
    "fit = np.array(n.values.values())\n",
    "upper = problem.bounds[1, :]\n",
    "lower = problem.bounds[0, :]\n",
    "\n",
    "delete_locs = np.where(n.fixed.values())[0]\n",
    "\n",
    "fit = np.delete(fit, delete_locs)\n",
    "upper = np.delete(upper, delete_locs)\n",
    "lower = np.delete(lower, delete_locs)\n",
    "\n",
    "fit_dict = dict()\n",
    "fit_dict['z'] = problem.z\n",
    "fit_dict['num_apec'] = problem.num_apec\n",
    "fit_dict['num_folded'] = problem.num_folded\n",
    "fit_dict['num_unfolded'] = problem.num_unfolded\n",
    "fit_dict['lines'] = np.delete(problem.all_lines, dropped_lines)\n",
    "fit_dict['redshifts'] = np.delete(problem.redshifts, dropped_lines)\n",
    "\n",
    "fit_dict['guess'] = fit\n",
    "fit_dict['upper'] = upper\n",
    "fit_dict['lower'] = lower\n",
    "\n",
    "np.savez(new_fit_path, **fit_dict)"
   ]
  },
  {
   "cell_type": "markdown",
   "id": "b36a0893",
   "metadata": {},
   "source": [
    "# Generate a new problem instance with the new model  \n",
    "\n",
    "Here we use `keep_thresh = 2` because continuum model components are specified with two parameters."
   ]
  },
  {
   "cell_type": "code",
   "execution_count": null,
   "id": "6b202243",
   "metadata": {},
   "outputs": [],
   "source": [
    "keep_threshold = 2\n",
    "\n",
    "model_path = './Fitting/E3/Perseus/DroppedLine.npz'\n",
    "\n",
    "perseus = Problem('./Data/ReducedData/Perseus_Data.h5',\n",
    "                  './Data/ModelComponents/APEC_Grid.npz',\n",
    "                  './Data/ModelComponents/Absorption_Grid.npy',\n",
    "                  model_path,\n",
    "                  min_energy =3, max_energy = 6,)\n",
    "\n",
    "# Load the fit from step 2\n",
    "model_fit = np.load(model_path)['guess']"
   ]
  },
  {
   "cell_type": "code",
   "execution_count": null,
   "id": "171166e2",
   "metadata": {},
   "outputs": [],
   "source": [
    "def drop_test(index):\n",
    "    start = time.time()\n",
    "    if index in dropped_continuum:\n",
    "        return np.inf, np.inf, old\n",
    "    \n",
    "    drop_guess = np.copy(old)\n",
    "    \n",
    "    for i in np.append(dropped_continuum, index):\n",
    "        \n",
    "        if i < perseus.num_apec:\n",
    "\n",
    "            drop_guess[i*2+1] = 0\n",
    "            drop_guess[i*2+2] = 1\n",
    "        else:\n",
    "            drop_guess[i*2+1] = 0\n",
    "            drop_guess[i*2+2] = 0\n",
    "        \n",
    "    n = Minuit.from_array_func(problem.fitness, drop_guess, limit = problem.bounds.T, errordef = 1e0)\n",
    "    \n",
    "    for i in np.append(dropped_continuum, index):\n",
    "        n.fixed['x' + str(i*2+1)] = True\n",
    "        n.fixed['x' + str(i*2+2)] = True\n",
    "        \n",
    "    n.migrad(ncall = int(1e8))\n",
    "    eval_sig = n.fval - old_fitness_val\n",
    "    end = time.time()\n",
    "    print(index, end-start, eval_sig)\n",
    "    return eval_sig, n.fval, np.array(n.values.values())"
   ]
  },
  {
   "cell_type": "code",
   "execution_count": null,
   "id": "5580f6ec",
   "metadata": {},
   "outputs": [],
   "source": [
    "init = np.copy(m.np_values())\n",
    "init_fitness_val = m.fval\n",
    "\n",
    "dropped_continuum = np.zeros((0), dtype = int)\n",
    "eval_sig = np.zeros((4))\n",
    "chiSq_array = np.zeros_like(eval_sig)\n",
    "fit_array = np.zeros((len(eval_sig), len(m.np_values())))\n",
    "\n",
    "while True:\n",
    "    for i in range(len(eval_sig)):\n",
    "        eval_sig[i], chiSq_array[i], fit_array[i] = drop_test(i)\n",
    "\n",
    "    if np.amin(eval_sig) < keep_thresh:\n",
    "        dropped_component = np.argmin(eval_sig)\n",
    "        print('Dropping: ', dropped_component, chiSq_array[dropped_component])\n",
    "\n",
    "\n",
    "        init_fitness_val = chiSq_array[dropped_component]\n",
    "        init = fit_array[dropped_component]\n",
    "        dropped_continuum = np.append(dropped_continuum, dropped_component)\n",
    "    else:\n",
    "        print('None to drop')\n",
    "        break"
   ]
  },
  {
   "cell_type": "markdown",
   "id": "0659c71e",
   "metadata": {},
   "source": [
    "# Validate the Continuum Dropping"
   ]
  },
  {
   "cell_type": "code",
   "execution_count": null,
   "id": "ac43ba1a",
   "metadata": {},
   "outputs": [],
   "source": [
    "drop_guess = np.copy(old)\n",
    "\n",
    "for i in dropped_continuum:\n",
    "    \n",
    "    \n",
    "    if i == 0 or i == 1:\n",
    "        drop_guess[i*2+1] = 0\n",
    "        drop_guess[i*2+2] = 1\n",
    "        \n",
    "    else:\n",
    "        drop_guess[i*2+1] = 0\n",
    "        drop_guess[i*2+2] = 0\n",
    "\n",
    "n = Minuit.from_array_func(problem.fitness, drop_guess, limit=problem.bounds.T, errordef = 1e0)\n",
    "\n",
    "for i in dropped_continuum:\n",
    "    n.fixed['x' + str(i*2+1)] = True\n",
    "    n.fixed['x' + str(i*2+2)] = True\n",
    "\n",
    "\n",
    "#n.strategy = 2\n",
    "n.migrad()"
   ]
  },
  {
   "cell_type": "markdown",
   "id": "b91f42cb",
   "metadata": {},
   "source": [
    "# Save the Model Specification\n",
    "\n",
    "Recall that in our analysis, we fix ther hydrogen depth at its best fit value at this stage and do not vary it further."
   ]
  },
  {
   "cell_type": "code",
   "execution_count": null,
   "id": "ba623e4b",
   "metadata": {},
   "outputs": [],
   "source": [
    "new_fit_path = './Fitting/DroppedContinuum.npz'\n",
    "\n",
    "fit = np.array(n.values.values())\n",
    "upper = problem.bounds[1, :]\n",
    "lower = problem.bounds[0, :]\n",
    "\n",
    "\n",
    "delete_locs = np.where(n.fixed.values())[0]\n",
    "\n",
    "fit = np.delete(fit, delete_locs)\n",
    "upper = np.delete(upper, delete_locs)\n",
    "lower = np.delete(lower, delete_locs)\n",
    "\n",
    "fit_dict = dict()\n",
    "fit_dict['z'] = problem.z\n",
    "\n",
    "# The way we related the index of dropped components to type will vary depending on the\n",
    "# model components that are specified. Are more elegant implementation could be made.\n",
    "fit_dict['num_apec'] = problem.num_apec - (0 in dropped_continuum)- (1 in dropped_continuum)\n",
    "fit_dict['num_folded'] = problem.num_folded - (2 in dropped_continuum)\n",
    "fit_dict['num_unfolded'] = problem.num_unfolded-(3 in dropped_continuum)\n",
    "fit_dict['lines'] = problem.all_lines\n",
    "fit_dict['redshifts'] = problem.redshifts\n",
    "\n",
    "fit_dict['guess'] = fit\n",
    "fit_dict['upper'] = upper\n",
    "fit_dict['lower'] = lower\n",
    "\n",
    "np.savez(new_fit_path, **fit_dict)"
   ]
  }
 ],
 "metadata": {
  "kernelspec": {
   "display_name": "Python 3",
   "language": "python",
   "name": "python3"
  },
  "language_info": {
   "codemirror_mode": {
    "name": "ipython",
    "version": 3
   },
   "file_extension": ".py",
   "mimetype": "text/x-python",
   "name": "python",
   "nbconvert_exporter": "python",
   "pygments_lexer": "ipython3",
   "version": "3.7.4"
  }
 },
 "nbformat": 4,
 "nbformat_minor": 5
}
