{
 "cells": [
  {
   "cell_type": "code",
   "execution_count": null,
   "id": "723b7313",
   "metadata": {},
   "outputs": [],
   "source": [
    "import sys, os, h5py, time, itertools\n",
    "sys.path.append('../')\n",
    "import numpy as np\n",
    "from scipy.optimize import differential_evolution\n",
    "from iminuit import Minuit\n",
    "from problem import Problem"
   ]
  },
  {
   "cell_type": "markdown",
   "id": "957fa4ba",
   "metadata": {},
   "source": [
    "# Set-Up"
   ]
  },
  {
   "cell_type": "code",
   "execution_count": null,
   "id": "79f606fe",
   "metadata": {},
   "outputs": [],
   "source": [
    "# Load the problem class and set it up with the signal model that contains the candidate line.\n",
    "perseus = Problem('./Data/ReducedData/Perseus_Data.h5',\n",
    "                  './Data/ModelComponents/APEC_Grid.npz',\n",
    "                  './Data/ModelComponents/Absorption_Grid.npy',\n",
    "                  './Fitting/SigDict.npz',\n",
    "                  min_energy =3, max_energy = 6,)"
   ]
  },
  {
   "cell_type": "markdown",
   "id": "bf8a0df5",
   "metadata": {},
   "source": [
    "# Optimization Methods\n",
    "\n",
    "`chi2(A)` evaluates the $\\chi^2$ for the model for the specified signal flux `A` in units of $10^{-6}$ photons/cm$^2$/s. If desired it will also return the best-fit (at fixed `A`) parameter vector."
   ]
  },
  {
   "cell_type": "code",
   "execution_count": null,
   "id": "e8a04e87",
   "metadata": {},
   "outputs": [],
   "source": [
    "# Getting the index of the singal line. We need this later.\n",
    "sig_index = np.where(problem.bounds[0] == -100)[0][0]\n",
    "\n",
    "# Returns chi^2\n",
    "def chi2(A, return_fit = False):\n",
    "    \n",
    "    profile_bounds = np.copy(problem.bounds)\n",
    "    profile_bounds[:, ,sig_index] = A # Fix signal parameter to `A`\n",
    "    \n",
    "    out = differential_evolution(loss, profile_bounds.T, atol = 0, tol = 1e-4,\n",
    "                                 disp = True, popsize=50)\n",
    "    m = Minuit.from_array_func(loss, out.x, limit = free_bounds.T, errordef = 1)\n",
    "    m.migrad()\n",
    "    \n",
    "    if return_fit:\n",
    "        return m.fval, m.np_values()\n",
    "    \n",
    "    return m.fval"
   ]
  },
  {
   "cell_type": "markdown",
   "id": "1fc8c7f7",
   "metadata": {},
   "source": [
    "# Calculate the profiled likelihood"
   ]
  },
  {
   "cell_type": "code",
   "execution_count": null,
   "id": "cb62d99e",
   "metadata": {},
   "outputs": [],
   "source": [
    "# profiling range\n",
    "profile_range = np.linspace(-30, 60, 128)\n",
    "chi2_vals = np.zeros_like(profile_range)\n",
    "\n",
    "for i, A in enumerate(profile_range):\n",
    "    chi2_vals = chi2(A)\n",
    "    print(i, A)\n"
   ]
  },
  {
   "cell_type": "markdown",
   "id": "63fbe3c3",
   "metadata": {},
   "source": [
    "You have now calculated a profiled likelihood and should save the results."
   ]
  },
  {
   "cell_type": "code",
   "execution_count": null,
   "id": "8c5fcfcb",
   "metadata": {},
   "outputs": [],
   "source": [
    "np.save(np.vstack((profile_range, chi2_vals)))"
   ]
  }
 ],
 "metadata": {
  "kernelspec": {
   "display_name": "Python 3 (ipykernel)",
   "language": "python",
   "name": "python3"
  },
  "language_info": {
   "codemirror_mode": {
    "name": "ipython",
    "version": 3
   },
   "file_extension": ".py",
   "mimetype": "text/x-python",
   "name": "python",
   "nbconvert_exporter": "python",
   "pygments_lexer": "ipython3",
   "version": "3.10.10"
  }
 },
 "nbformat": 4,
 "nbformat_minor": 5
}
